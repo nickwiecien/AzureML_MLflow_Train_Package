{
 "cells": [
  {
   "cell_type": "markdown",
   "id": "1eb7a735-57c5-4f3e-88f9-963f871e152a",
   "metadata": {},
   "source": [
    "# Azure Machine Learning - Model Package Testing (Local)\n",
    "Sample notebook demonstrating how to pull an image from a target registry, run locally as web service, and submitting data to the model for scoring via a HTTP request"
   ]
  },
  {
   "cell_type": "markdown",
   "id": "76b06641-4cba-4217-ad0f-333d9bc4fb08",
   "metadata": {},
   "source": [
    "### Import required packages"
   ]
  },
  {
   "cell_type": "code",
   "execution_count": null,
   "id": "aa51f7a7-74d4-4df6-a0c5-2afeaad9e8ec",
   "metadata": {},
   "outputs": [],
   "source": [
    "from azureml.core import Workspace, Model, Dataset\n",
    "import subprocess\n",
    "import requests\n",
    "import json\n",
    "import warnings\n",
    "warnings.filterwarnings('ignore')"
   ]
  },
  {
   "cell_type": "markdown",
   "id": "68383aaa-6e64-43b9-ac90-e47e487a6bb5",
   "metadata": {},
   "source": [
    "### Get connection to AML workspace and default Key Vault"
   ]
  },
  {
   "cell_type": "code",
   "execution_count": null,
   "id": "6f3f2bd9-9c51-429f-9103-a0357d8534ef",
   "metadata": {},
   "outputs": [],
   "source": [
    "ws = Workspace.from_config()\n",
    "kv = ws.get_default_keyvault()"
   ]
  },
  {
   "cell_type": "markdown",
   "id": "a76c13b1-bd3a-4141-a86b-9b89688ba0ab",
   "metadata": {},
   "source": [
    "### Retrieve ACR credentials from key vault\n",
    "<i>Note:</i> If these credentials have not been previously set you will need to add them using the syntax below:\n",
    "```\n",
    "kv.set_secret('acr-username', '<YOUR-ACR-USERNAME>')\n",
    "kv.set_secret('acr-password', '<YOUR-ACR-PASSWORD>')\n",
    "kv.set_secret('acr-address', '<YOUR-ACR-ADDRESS>')\n",
    "```"
   ]
  },
  {
   "cell_type": "code",
   "execution_count": null,
   "id": "51d91e5d-f5c0-47e1-ba0b-ff751a2b9158",
   "metadata": {},
   "outputs": [],
   "source": [
    "acr_username = kv.get_secret('acr-username')\n",
    "acr_password = kv.get_secret('acr-password')\n",
    "acr_address = kv.get_secret('acr-address')"
   ]
  },
  {
   "cell_type": "markdown",
   "id": "4056e385-7632-48d8-8283-63305373bb0c",
   "metadata": {},
   "source": [
    "### Model package image details\n",
    "In this sample, model packages are added to a target registry based on model name and model version"
   ]
  },
  {
   "cell_type": "code",
   "execution_count": null,
   "id": "cbf75767-c44a-4760-af8f-e44d0447f866",
   "metadata": {},
   "outputs": [],
   "source": [
    "model_name = 'iris-classification'\n",
    "model_version = '1'\n",
    "location = f'{acr_address}/{model_name}:{model_version}'\n",
    "location"
   ]
  },
  {
   "cell_type": "markdown",
   "id": "84e3fa26-5930-4076-b151-3f6f800f4756",
   "metadata": {},
   "source": [
    "### Run model package container locally\n",
    "Launch the container using subprocess library"
   ]
  },
  {
   "cell_type": "code",
   "execution_count": null,
   "id": "6a665392-3b6c-4673-a6be-4c3a2249b604",
   "metadata": {},
   "outputs": [],
   "source": [
    "subprocess.check_call(['docker', 'login', acr_address, '-u', acr_username, '-p', acr_password])\n",
    "subprocess.check_call(['docker', 'pull', location])\n",
    "subprocess.check_call(['docker', 'run', '-d', '-p', '5001:5001', location])"
   ]
  },
  {
   "cell_type": "markdown",
   "id": "41218dbd-4d36-4258-8ec5-694254368675",
   "metadata": {
    "tags": []
   },
   "source": [
    "### Retrieve sample data for testing\n",
    "Expected format of data sent to end point is...\n",
    "```\n",
    "[{'sepal length (cm)':6.4, 'sepal width (cm)':3.1, 'petal length (cm)': 5.5, 'petal width (cm)': 1.8}, \n",
    " {'sepal length (cm)':6.7, 'sepal width (cm)':3.0, 'petal length (cm)': 5.0, 'petal width (cm)': 1.7},\n",
    " ..., \n",
    "]\n",
    "```\n",
    "Data should be stringified before sending to the endpoint for inferencing"
   ]
  },
  {
   "cell_type": "code",
   "execution_count": null,
   "id": "e1166182-3bbc-49bc-bf1d-b389507bc0f4",
   "metadata": {},
   "outputs": [],
   "source": [
    "dataset = Dataset.get_by_name(ws, 'Testing_Data')\n",
    "df = dataset.to_pandas_dataframe()\n",
    "df.drop(columns=['target'], inplace=True)\n",
    "records = df.to_json(orient='records')"
   ]
  },
  {
   "cell_type": "markdown",
   "id": "5a4caa65-900e-45c7-9b60-ddbdd0817d7b",
   "metadata": {},
   "source": [
    "### Submit data to locally running container for inferencing"
   ]
  },
  {
   "cell_type": "code",
   "execution_count": null,
   "id": "afb6e628-010f-4594-876a-cd185edca98d",
   "metadata": {},
   "outputs": [],
   "source": [
    "uri = 'http://localhost:5001/score'\n",
    "headers = {'Content-Type': 'application/json'}\n",
    "response = requests.post(uri, data=records, headers=headers)\n",
    "response.json()"
   ]
  }
 ],
 "metadata": {
  "kernelspec": {
   "display_name": "Python 3.8 - AzureML",
   "language": "python",
   "name": "python38-azureml"
  },
  "language_info": {
   "codemirror_mode": {
    "name": "ipython",
    "version": 3
   },
   "file_extension": ".py",
   "mimetype": "text/x-python",
   "name": "python",
   "nbconvert_exporter": "python",
   "pygments_lexer": "ipython3",
   "version": "3.8.5"
  }
 },
 "nbformat": 4,
 "nbformat_minor": 5
}
