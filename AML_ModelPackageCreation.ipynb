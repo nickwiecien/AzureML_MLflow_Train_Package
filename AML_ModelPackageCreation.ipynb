{
 "cells": [
  {
   "cell_type": "markdown",
   "id": "1eb7a735-57c5-4f3e-88f9-963f871e152a",
   "metadata": {},
   "source": [
    "# Azure Machine Learning - Model Package Building (Local)\n",
    "Sample notebook demonstrating how to pull an image from a target registry, run locally as web service, and submitting data to the model for scoring via a HTTP request"
   ]
  },
  {
   "cell_type": "markdown",
   "id": "76b06641-4cba-4217-ad0f-333d9bc4fb08",
   "metadata": {},
   "source": [
    "### Import required packages"
   ]
  },
  {
   "cell_type": "code",
   "execution_count": null,
   "id": "aa51f7a7-74d4-4df6-a0c5-2afeaad9e8ec",
   "metadata": {},
   "outputs": [],
   "source": [
    "from azureml.core import Workspace, Model, Dataset\n",
    "import subprocess\n",
    "import requests\n",
    "import json\n",
    "import warnings\n",
    "warnings.filterwarnings('ignore')"
   ]
  },
  {
   "cell_type": "markdown",
   "id": "68383aaa-6e64-43b9-ac90-e47e487a6bb5",
   "metadata": {},
   "source": [
    "### Get connection to AML workspace and default Key Vault"
   ]
  },
  {
   "cell_type": "code",
   "execution_count": null,
   "id": "6f3f2bd9-9c51-429f-9103-a0357d8534ef",
   "metadata": {},
   "outputs": [],
   "source": [
    "ws = Workspace.from_config()\n",
    "kv = ws.get_default_keyvault()"
   ]
  },
  {
   "cell_type": "markdown",
   "id": "a76c13b1-bd3a-4141-a86b-9b89688ba0ab",
   "metadata": {},
   "source": [
    "### Retrieve ACR credentials from key vault\n",
    "<i>Note:</i> If these credentials have not been previously set you will need to add them using the syntax below:\n",
    "```\n",
    "kv.set_secret('acr-username', '<YOUR-ACR-USERNAME>')\n",
    "kv.set_secret('acr-password', '<YOUR-ACR-PASSWORD>')\n",
    "kv.set_secret('acr-address', '<YOUR-ACR-ADDRESS>')\n",
    "```"
   ]
  },
  {
   "cell_type": "code",
   "execution_count": null,
   "id": "51d91e5d-f5c0-47e1-ba0b-ff751a2b9158",
   "metadata": {},
   "outputs": [],
   "source": [
    "acr_username = kv.get_secret('acr-username')\n",
    "acr_password = kv.get_secret('acr-password')\n",
    "acr_address = kv.get_secret('acr-address')"
   ]
  },
  {
   "cell_type": "markdown",
   "id": "19e14b50-3b73-4a05-a1c3-5f53eb8d5a5d",
   "metadata": {},
   "source": [
    "### Retreive model and define InferenceConfig"
   ]
  },
  {
   "cell_type": "code",
   "execution_count": null,
   "id": "a397cece-282d-4932-8c89-6355aa9b6176",
   "metadata": {},
   "outputs": [],
   "source": [
    "from azureml.core import Environment\n",
    "from azureml.core.model import InferenceConfig\n",
    "\n",
    "model = Model(ws, 'iris-classification')\n",
    "model_name=model.name\n",
    "model_version = model.version\n",
    "\n",
    "env = Environment.get(ws, 'sample_env')\n",
    "\n",
    "inference_config = InferenceConfig(\n",
    "    environment=env,\n",
    "    source_directory=\"./deployment\",\n",
    "    entry_script=\"score.py\",\n",
    ")"
   ]
  },
  {
   "cell_type": "markdown",
   "id": "a56a0d09-832b-4d09-82ec-5ec9e13286bc",
   "metadata": {},
   "source": [
    "### Create model package and save locally"
   ]
  },
  {
   "cell_type": "code",
   "execution_count": null,
   "id": "bad108d3-d8e3-4e43-a73f-afed3137541d",
   "metadata": {},
   "outputs": [],
   "source": [
    "package = Model.package(ws, [model], inference_config, image_name=model_name, image_label=model_version, generate_dockerfile=True)\n",
    "\n",
    "import os\n",
    "import shutil\n",
    "try:\n",
    "    shutil.rmtree('./model_package')\n",
    "except Exception:\n",
    "    pass\n",
    "os.makedirs('./model_package', exist_ok=True)\n",
    "package.save('./model_package')"
   ]
  },
  {
   "cell_type": "markdown",
   "id": "b1a03b48-da59-4924-bbfb-04acfb812d6e",
   "metadata": {},
   "source": [
    "### Update Dockerfile in locally-saved model package\n",
    "Code snippet below inserts lines under `new_lines` into AML-generated Dockerfile"
   ]
  },
  {
   "cell_type": "code",
   "execution_count": null,
   "id": "10785a24-91f7-43b2-8124-83f05d40982c",
   "metadata": {},
   "outputs": [],
   "source": [
    "# Update Dockerfile\n",
    "lines = []\n",
    "with open('./model_package/Dockerfile', 'r') as file:\n",
    "    lines = file.readlines()\n",
    "    \n",
    "new_lines = [\n",
    "    'RUN apt-get update -y\\n',\n",
    "    'RUN apt-get install openssl -y\\n',\n",
    "    'RUN pip3 install pandas==1.0.4 joblib==1.2.0 Werkzeug==2.1.1\\n',\n",
    "    'RUN apt-get clean -y\\n'\n",
    "    'RUN rm /etc/ssh/ssh_host_ecdsa_key\\n'\n",
    "    'RUN rm /etc/ssh/ssh_host_ed25519_key\\n'\n",
    "    'RUN rm /etc/ssh/ssh_host_rsa_key\\n'\n",
    "    'RUN rm /var/lib/apt/lists/packages.microsoft.com_ubuntu_20.04_prod_dists_focal_InRelease\\n'\n",
    "    'RUN rm /azureml-envs/*/lib/python3.8/site-packages/ndg/httpsclient/test/pki/localhost.key\\n'\n",
    "]\n",
    "lines = lines[0:-1] + new_lines + [lines[-1]]\n",
    "\n",
    "with open('./model_package/Dockerfile', 'w') as file:\n",
    "    for line in lines:\n",
    "        file.write(line)"
   ]
  },
  {
   "cell_type": "markdown",
   "id": "9f2649cf-fb87-49db-aad0-6ce1340582f4",
   "metadata": {},
   "source": [
    "### Build docker image from model package definition"
   ]
  },
  {
   "cell_type": "code",
   "execution_count": null,
   "id": "01269a27-9c13-4ddf-92a3-7456ceb94c92",
   "metadata": {},
   "outputs": [],
   "source": [
    "import docker\n",
    "import datetime\n",
    "kv = ws.get_default_keyvault()\n",
    "acr_username = kv.get_secret('acr-username')\n",
    "acr_password = kv.get_secret('acr-password')\n",
    "acr_address = kv.get_secret('acr-address')\n",
    "timestamp = datetime.datetime.now().strftime(\"%m%d%H%M%f\")\n",
    "location = f'{acr_address}/{model_name}:{timestamp}'\n",
    "location\n",
    "client = docker.from_env()\n",
    "client.login(username=acr_username, password=acr_password, registry=acr_address)\n",
    "\n",
    "# Pull existing model image\n",
    "img = client.images.build(path='./model_package', tag=location, quiet=False)\n",
    "\n",
    "print(client.images.list())"
   ]
  },
  {
   "cell_type": "markdown",
   "id": "e9c661f6-b81e-4409-8f38-991555cbbf84",
   "metadata": {},
   "source": [
    "### Run docker container locally"
   ]
  },
  {
   "cell_type": "code",
   "execution_count": null,
   "id": "702ab4f0-b374-4430-8517-e5d53bdc4697",
   "metadata": {},
   "outputs": [],
   "source": [
    "import subprocess\n",
    "subprocess.check_call(['docker', 'run', '-d', '-p', '5001:5001', location])"
   ]
  },
  {
   "cell_type": "markdown",
   "id": "6631f02f-a65f-4370-b0a6-46be3e5a9a7e",
   "metadata": {},
   "source": [
    "### Retrieve testing data and test endpoint locally before pushing to ACR"
   ]
  },
  {
   "cell_type": "code",
   "execution_count": null,
   "id": "a392e70b-8005-4482-936d-9295d43a1fd6",
   "metadata": {},
   "outputs": [],
   "source": [
    "dataset = Dataset.get_by_name(ws, 'Testing_Data')\n",
    "df = dataset.to_pandas_dataframe()\n",
    "df.drop(columns=['target'], inplace=True)\n",
    "records = df.to_json(orient='records')\n",
    "\n",
    "import time\n",
    "time.sleep(5)\n",
    "\n",
    "uri = 'http://localhost:5001/score'\n",
    "headers = {'Content-Type': 'application/json'}\n",
    "response = requests.post(uri, data=records, headers=headers)\n",
    "response.json()"
   ]
  },
  {
   "cell_type": "markdown",
   "id": "f4536065-c16d-45e4-b4c5-5337f51d1aed",
   "metadata": {},
   "source": [
    "### If sample HTTP request is successful push container to ACR, else cancel gracefully"
   ]
  },
  {
   "cell_type": "code",
   "execution_count": null,
   "id": "5339a287-58f3-44c0-af1d-7c3f2752a53c",
   "metadata": {},
   "outputs": [],
   "source": [
    "if response.status_code==200:\n",
    "    client.images.push(location)\n",
    "else:\n",
    "    # run.cancel()\n",
    "    pass"
   ]
  }
 ],
 "metadata": {
  "kernelspec": {
   "display_name": "Python 3.8 - AzureML",
   "language": "python",
   "name": "python38-azureml"
  },
  "language_info": {
   "codemirror_mode": {
    "name": "ipython",
    "version": 3
   },
   "file_extension": ".py",
   "mimetype": "text/x-python",
   "name": "python",
   "nbconvert_exporter": "python",
   "pygments_lexer": "ipython3",
   "version": "3.8.5"
  }
 },
 "nbformat": 4,
 "nbformat_minor": 5
}
